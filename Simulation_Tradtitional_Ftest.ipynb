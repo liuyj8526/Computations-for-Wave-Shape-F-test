{
 "cells": [
  {
   "cell_type": "code",
   "execution_count": 10,
   "metadata": {},
   "outputs": [],
   "source": [
    "import numpy as np\n",
    "import math\n",
    "import matplotlib.pyplot as plt\n",
    "import statsmodels.api as sm\n",
    "import scipy.stats as st\n",
    "from scipy.signal import windows,freqz\n",
    "from scipy import signal, fft\n",
    "%run Functions.ipynb"
   ]
  },
  {
   "cell_type": "code",
   "execution_count": 15,
   "metadata": {},
   "outputs": [],
   "source": [
    "#Specify parameters, freq should be in [0.25, 0.251)\n",
    "freq = 0.25\n",
    "amp = 50"
   ]
  },
  {
   "cell_type": "code",
   "execution_count": 16,
   "metadata": {},
   "outputs": [
    {
     "name": "stdout",
     "output_type": "stream",
     "text": [
      "[1.         0.99999997 0.99999879 0.99996759 0.99941051 0.99250788\n",
      " 0.93666555]\n"
     ]
    }
   ],
   "source": [
    "length = 500\n",
    "bandwidth = 4/length\n",
    "K = 7\n",
    "wins, eigvals = windows.dpss(M = length, NW = bandwidth*length, Kmax = K, return_ratios=True)\n",
    "print(eigvals)"
   ]
  },
  {
   "cell_type": "code",
   "execution_count": 18,
   "metadata": {},
   "outputs": [
    {
     "name": "stdout",
     "output_type": "stream",
     "text": [
      "10th and 90th percentiles:  189409.95281058876 559382.5359626769\n"
     ]
    }
   ],
   "source": [
    "stat_vals = []\n",
    "start_index = 125\n",
    "if freq == 0.25:\n",
    "    end_index = 126\n",
    "else:\n",
    "    end_index = 127\n",
    "    \n",
    "for sim in range(1000):\n",
    "    noise = Noise(length, generatingNoise = \"Gaussian\")\n",
    "    y = noise.linearProcess([1])\n",
    "    gridSize = length\n",
    "    signalSample = y.copy()-np.mean(y)\n",
    "    signalSample = (amp*np.cos(2*np.pi*np.arange(length)*(freq))+y) \n",
    "    signalSample = np.array(signalSample)\n",
    "    signalSample -= np.average(signalSample)\n",
    "\n",
    "    sampFreqs, sdf, stats = get_MT_F_Statistic(signalSample, gridSize)\n",
    "    stat_vals.append(max(stats[start_index: end_index]))\n",
    "    \n",
    "stat_vals.sort()    \n",
    "print(\"10th and 90th percentiles: \", stat_vals[99], stat_vals[-100])"
   ]
  }
 ],
 "metadata": {
  "kernelspec": {
   "display_name": "Python 3 (ipykernel)",
   "language": "python",
   "name": "python3"
  },
  "language_info": {
   "codemirror_mode": {
    "name": "ipython",
    "version": 3
   },
   "file_extension": ".py",
   "mimetype": "text/x-python",
   "name": "python",
   "nbconvert_exporter": "python",
   "pygments_lexer": "ipython3",
   "version": "3.7.11"
  }
 },
 "nbformat": 4,
 "nbformat_minor": 2
}
